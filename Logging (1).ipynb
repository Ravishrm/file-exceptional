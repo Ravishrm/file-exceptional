{
  "nbformat": 4,
  "nbformat_minor": 0,
  "metadata": {
    "colab": {
      "provenance": []
    },
    "kernelspec": {
      "name": "python3",
      "display_name": "Python 3"
    },
    "language_info": {
      "name": "python"
    }
  },
  "cells": [
    {
      "cell_type": "markdown",
      "source": [
        "1] What is the difference between interpreted and compiled languages\n",
        "- Interpreted languages are Code executed line-by-line at runtime (e.g., Python, JavaScript).They are Slower but more flexible.\n",
        "\n",
        "  Compiled languages are Code converted to machine code before execution (e.g., C++, Rust).They are Faster but less flexible.\n",
        "\n",
        "2] What is exception handling in Python\n",
        "- Exception handling in Python manages runtime errors using:\n",
        "\n",
        "      try: Code that may raise an exception.\n",
        "\n",
        "      except: Handles the exception if it occurs.\n",
        "\n",
        "      else: Runs if no exception.\n",
        "\n",
        "      finally: Always executes (cleanup).\n",
        "\n",
        "3] What is the purpose of the finally block in exception handling\n",
        "- The finally block ensures code runs no matter what—whether an exception occurs or not. They have guaranteed execution; runs even if try or except has a return or another exception.\n",
        "\n",
        "4] What is logging in Python\n",
        "- Logging in Python records events during program execution for debugging, monitoring, or auditing.\n",
        "\n",
        "5] What is the significance of the __del__ method in Python\n",
        "- The __del__ method in Python is a destructor that gets called when an object is about to be destroyed (garbage collected). There purpose is to Cleanup actions and are called when no references to the object exist.\n",
        "\n",
        "6] What is the difference between import and from ... import in Python\n",
        "- import module:\n",
        "\n",
        "    - Imports the entire module.\n",
        "\n",
        "    - Access members using module.member\n",
        "\n",
        "from module import member:\n",
        "\n",
        "  - Imports a specific function/class/variable directly.\n",
        "\n",
        "  - Access without module prefix.\n",
        "\n",
        "7] How can you handle multiple exceptions in Python\n",
        "- We can handle multiple exceptions in python by following:\n",
        "\n",
        "  a}Separate except Blocks\n",
        "  \n",
        "  b}Single except with Tuple\n",
        "\n",
        "  c}Base Exception\n",
        "\n",
        "  d}else & finally\n",
        "\n",
        "8] What is the purpose of the with statement when handling files in Python\n",
        "- The with statement in Python ensures proper resource management when handling files (or other resources). They are used for Automatic File Closing and are used for writing cleaner and safer codes.\n",
        "\n",
        "9] What is the difference between multithreading and multiprocessing\n",
        "- 1. Multithreading\n",
        "\n",
        "- Multiple threads run concurrently in the same process.\n",
        "\n",
        "- Memory: Shares the same memory space (lightweight).\n",
        "\n",
        "Use Case:\n",
        "\n",
        " - I/O-bound tasks (e.g., web requests, file operations).\n",
        "\n",
        " - Tasks that wait often (GIL limits CPU-bound performance).\n",
        "\n",
        "\n",
        "2.Multiprocessing:\n",
        "\n",
        "- Multiple processes run in parallel (separate Python interpreters).\n",
        "\n",
        "- Memory: Each process has its own memory (higher overhead).\n",
        "\n",
        "Use Case:\n",
        "\n",
        "- CPU-bound tasks (e.g., heavy computations, data processing).\n",
        "\n",
        "- Avoids GIL, enabling true parallelism.\n",
        "\n",
        "10] What are the advantages of using logging in a program\n",
        "- Top Advantages of Logging:\n",
        "\n",
        "    - Debugging → Trace errors easily.\n",
        "\n",
        "    - Levels → Filter logs (DEBUG, INFO, ERROR).\n",
        "\n",
        "    - Persistence → Save to files, not just console.\n",
        "\n",
        "    - Performance → Track execution time/issues.\n",
        "\n",
        "    - Audit Trail → Record user/system actions.\n",
        "\n",
        "    - Configurable → Enable/disable without code changes.\n",
        "\n",
        "    - Structured → Add timestamps, module names.\n",
        "\n",
        "11] What is memory management in Python\n",
        "- Memory Management in Python\n",
        "\n",
        "  - Automatic – Uses reference counting + garbage collector to free unused memory.\n",
        "\n",
        "  - Reference Counting – Tracks how many variables point to an object; deletes it when count hits zero.\n",
        "\n",
        "  - Garbage Collector (GC) – Handles cyclic references (e.g., objA.ref = objB; objB.ref = objA).\n",
        "\n",
        "  - Memory Allocation – Uses a private heap for Python objects (managed internally).\n",
        "\n",
        "  - No Manual Freeing – Unlike C/C++, no free() or delete needed\n",
        "\n",
        "12] What are the basic steps involved in exception handling in Python\n",
        "- Basic Steps in Python Exception Handling\n",
        "\n",
        " - try Block: Place code that might raise an exception\n",
        "\n",
        " - except Block: Catch and handle specific exceptions.\n",
        "\n",
        " - else Block (Optional): Executes if no exception occurs.\n",
        "\n",
        " - finally Block (Optional): Runs always, regardless of exceptions (for cleanup).\n",
        "\n",
        "13] Why is memory management important in Python\n",
        "- Python Memory Management Importance:\n",
        "\n",
        "  - Prevents Memory Leaks – Automatic garbage collection reclaims unused memory.\n",
        "\n",
        "  - Boosts Performance – Efficient memory use reduces overhead.\n",
        "\n",
        "  - Avoids Crashes – Critical for limited-RAM systems (prevents MemoryError).\n",
        "\n",
        "  - Handles Cyclic References – GC cleans up circular dependencies.\n",
        "\n",
        "  - Scalability – Essential for long-running/large-scale apps.\n",
        "\n",
        "  - No Manual Effort – Python automates freeing memory (unlike C/C++).\n",
        "\n",
        "14] What is the role of try and except in exception handling\n",
        "- try Block\n",
        "  - Purpose: Encapsulates code that might raise an exception.\n",
        "\n",
        "  - Role: Defines the \"risk zone\" where exceptions are monitored.\n",
        "\n",
        "- except Block\n",
        "\n",
        " - Purpose: Catches and handles specific exceptions.\n",
        "\n",
        " - Role: Prevents crashes by gracefully managing errors.\n",
        "\n",
        "15] How does Python's garbage collection system work\n",
        "- Python uses a combination of reference counting and a generational garbage collector to manage memory automatically.\n",
        "\n",
        "1. Reference Counting (Primary Mechanism)\n",
        "- How it works:\n",
        "\n",
        " - Every object has a counter tracking how many variables point to it.\n",
        "\n",
        " - When the count drops to zero, the object is immediately deleted.\n",
        "\n",
        "2.  Generational Garbage Collector (Handles Cycles)\n",
        "- How it works:\n",
        "\n",
        " - Objects are grouped into 3 generations (new, middle, old).\n",
        "\n",
        " - GC runs periodically, prioritizing newer objects (where most cycles occur).\n",
        "\n",
        " - Uses cycle-detection algorithms to identify and collect cyclic garbage.\n",
        "\n",
        "Purpose: Breaks reference cycles (e.g., objA.ref = objB; objB.ref = objA).\n",
        "\n",
        "16] What is the purpose of the else block in exception handling\n",
        "- else in Exception Handling\n",
        " - Executes only if try succeeds (no exceptions).\n",
        "\n",
        " - Separates risky code (try) from success-path code (else).\n",
        "\n",
        " - Prevents accidental exception catching (unlike extending try).\n",
        "\n",
        " - Improves readability by clarifying intent.\n",
        "\n",
        "17] What are the common logging levels in Python\n",
        "- 5 Standard Levels (increasing severity):\n",
        "\n",
        " - DEBUG : Detailed diagnostics (e.g., variable dumps).\n",
        "\n",
        " - INFO : Normal operation confirmations (e.g., \"Task completed\").\n",
        "\n",
        " - WARNING : Potential issues (e.g., \"Low memory\").\n",
        "\n",
        " - ERROR : Serious failures (e.g., \"File not found\").\n",
        "\n",
        " - CRITICAL : Fatal errors (e.g., \"System crash\").\n",
        "\n",
        "18] What is the difference between os.fork() and multiprocessing in Python\n",
        "- Difference between os.fork() and multiprocessing:\n",
        "\n",
        "- Platform Support\n",
        "\n",
        " - os.fork(): Unix-only (Linux/macOS).\n",
        "\n",
        " - multiprocessing: Cross-platform (Windows/Linux/macOS).\n",
        "\n",
        "- Memory Behavior\n",
        "\n",
        " - os.fork(): Child gets full copy of parent’s memory (Copy-on-Write).\n",
        "\n",
        " - multiprocessing: Isolated memory (safer, no unintended sharing).\n",
        "\n",
        "- Ease of Use\n",
        "\n",
        " - os.fork(): Manual management (risk of leaks).\n",
        "\n",
        " - multiprocessing: Automatic cleanup (simpler API).\n",
        "\n",
        "- GIL Impact\n",
        "\n",
        " - Both bypass GIL, but multiprocessing handles it more cleanly.\n",
        "\n",
        "- Use Cases\n",
        "\n",
        " - os.fork(): Unix-specific optimizations.\n",
        "\n",
        " - multiprocessing: General-purpose parallelism.\n",
        "\n",
        "19] What is the importance of closing a file in Python\n",
        "- Importance of closing a file in Python is to:\n",
        "\n",
        " - Avoids Resource Leaks: Prevents hitting system limits.\n",
        "\n",
        " - Ensures Data Saves Properly: Forces buffered writes to disk, preventing data loss.\n",
        "\n",
        " - Prevents File Locking: Releases files so other programs can access them.\n",
        "\n",
        " - Best Practice: Use with for auto-closing.\n",
        "\n",
        "20] What is the difference between file.read() and file.readline() in Python\n",
        "- read()\n",
        "\n",
        " - Returns entire file content as a single string.\n",
        "\n",
        " - Uses high memory (avoid for large files).\n",
        "\n",
        " - Moves file cursor to the end.\n",
        "\n",
        "- readline()\n",
        "\n",
        " - Returns one line at a time (including \\n).\n",
        "\n",
        " - Memory-efficient (ideal for large files).\n",
        "\n",
        " - Moves cursor to the next line.\n",
        "\n",
        "- When to Use:\n",
        "\n",
        " - read() → Small files (e.g., configs, JSON).\n",
        "\n",
        " - readline() → Large files (e.g., logs, CSV).\n",
        "\n",
        "21] What is the logging module in Python used for\n",
        "- The logging module in Python is a built-in library designed for tracking events, errors, and program behavior during execution.\n",
        "\n",
        "Logging Module: is used for DEBUGGING, MONITORING, ERROR HANDLING, AUDIT & ANALYSIS and CUSTOMISATION\n",
        "\n",
        "22] What is the os module in Python used for in file handling\n",
        "- The os module in Python provides essential functions for file and directory operations at the operating system level.\n",
        "\n",
        "- Path Handling\n",
        "\n",
        "  - os.path.join() → Cross-platform path combining.\n",
        "\n",
        "  - os.path.exists() → Check if file/dir exists.\n",
        "\n",
        "- File Operations\n",
        "\n",
        "  - os.rename() → Rename/move files.\n",
        "\n",
        "  - os.remove() → Delete files.\n",
        "\n",
        "- Directory Management\n",
        "\n",
        "  - os.mkdir() → Create directories.\n",
        "\n",
        "  - os.listdir() → List directory contents.\n",
        "\n",
        "- File Metadata\n",
        "\n",
        "  - os.stat() → Get file size, timestamps, etc.\n",
        "\n",
        "- Low-Level Access\n",
        "\n",
        "  - os.open() → Raw file operations (advanced use).\n",
        "\n",
        "23] What are the challenges associated with memory management in Python\n",
        "- Key Memory Management Challenges in Python:\n",
        "\n",
        " - Garbage Collection Overhead – Can slow down performance.\n",
        "\n",
        " - Reference Cycles – Requires GC to clean (not immediate).\n",
        "\n",
        " - Memory Leaks – Caused by lingering references (e.g., caches).\n",
        "\n",
        " - High Memory Usage – Python objects are heavier than C.\n",
        "\n",
        " - GIL Limitation – Restricts parallel memory ops in threads.\n",
        "\n",
        " - Fragmentation – Frequent alloc/dealloc reduces efficiency.\n",
        "\n",
        " - C Extensions Risk – Manual memory leaks if mishandled.\n",
        "\n",
        " - Large Data Issues – OOM errors with big datasets.\n",
        "\n",
        "24] How do you raise an exception manually in Python\n",
        "- Manually Raising Exceptions in Python\n",
        "  - Use raise Keyword\n",
        "\n",
        "  - Explicitly trigger exceptions.\n",
        "\n",
        "- Built-in Exceptions: raise ValueError(\"Invalid value!\")  \n",
        "\n",
        "- Custom Exceptions:\n",
        "\n",
        "      class MyError(Exception): pass  \n",
        "      raise MyError(\"Custom error!\")  \n",
        "\n",
        "- Re-raise Exceptions:\n",
        "      try:  \n",
        "        1 / 0  \n",
        "      except:  \n",
        "        print(\"Error occurred\")  \n",
        "        raise  # Re-raises the same exception  \n",
        "\n",
        "25] Why is it important to use multithreading in certain applications\n",
        "- We use multithreading:\n",
        "    - Faster I/O-Bound Tasks – Parallel waits (APIs, files, DBs).\n",
        "\n",
        "    - Smoother UIs – Background threads prevent freezing.\n",
        "\n",
        "    - Efficient Resource Use – Idle time → more work done.\n",
        "\n",
        "    - Simple Concurrency – Shared memory, lighter than processes.\n",
        "\n",
        "    - Real-Time Apps – Live data (streaming, sensors).\n",
        "\n"
      ],
      "metadata": {
        "id": "yVBYqNhHQYKh"
      }
    },
    {
      "cell_type": "code",
      "source": [
        "# PRACTICAL QUESTIONS\n",
        "# 1] How can you open a file for writing in Python and write a string to it\n",
        "with open(\"file.txt\", \"w\") as f:\n",
        "    f.write(\"Hello, world!\")\n"
      ],
      "metadata": {
        "id": "tKvJweQimcNa"
      },
      "execution_count": 1,
      "outputs": []
    },
    {
      "cell_type": "code",
      "source": [
        "# 2]  Write a Python program to read the contents of a file and print each line\n",
        "with open(\"file.txt\", \"r\") as f:\n",
        "    for line in f:\n",
        "        print(line, end=\"\")"
      ],
      "metadata": {
        "colab": {
          "base_uri": "https://localhost:8080/"
        },
        "id": "R43CPwDjjj2J",
        "outputId": "448327d1-4ce9-4473-f78e-d55cca22d7a6"
      },
      "execution_count": 2,
      "outputs": [
        {
          "output_type": "stream",
          "name": "stdout",
          "text": [
            "Hello, world!"
          ]
        }
      ]
    },
    {
      "cell_type": "code",
      "source": [
        "# 3] How would you handle a case where the file doesn't exist while trying to open it for reading\n",
        "try:\n",
        "    with open(\"file.txt\", \"r\") as f:\n",
        "        print(f.read())\n",
        "except FileNotFoundError:\n",
        "    print(\"File not found.\")\n"
      ],
      "metadata": {
        "colab": {
          "base_uri": "https://localhost:8080/"
        },
        "id": "Uq1XPw1yjvkA",
        "outputId": "06126aa6-e6ce-4a52-a398-b696c8f86ed6"
      },
      "execution_count": 3,
      "outputs": [
        {
          "output_type": "stream",
          "name": "stdout",
          "text": [
            "Hello, world!\n"
          ]
        }
      ]
    },
    {
      "cell_type": "code",
      "source": [
        "# 4] Write a Python script that reads from one file and writes its content to another file\n",
        "with open(\"file.txt\", \"r\") as src, open(\"abish.txt\", \"w\") as abish:\n",
        "    abish.write(src.read())\n"
      ],
      "metadata": {
        "id": "Z8kc_u9HkAb2"
      },
      "execution_count": 4,
      "outputs": []
    },
    {
      "cell_type": "code",
      "source": [
        "# 5] How would you catch and handle division by zero error in Python\n",
        "try:\n",
        "    result = 10 / 0\n",
        "except ZeroDivisionError:\n",
        "    print(\"Cannot divide by zero.\")\n"
      ],
      "metadata": {
        "colab": {
          "base_uri": "https://localhost:8080/"
        },
        "id": "hJng67MWkp9h",
        "outputId": "c04f4a43-945f-494c-ad22-d7b0b565a5b1"
      },
      "execution_count": 5,
      "outputs": [
        {
          "output_type": "stream",
          "name": "stdout",
          "text": [
            "Cannot divide by zero.\n"
          ]
        }
      ]
    },
    {
      "cell_type": "code",
      "source": [
        "# 6] Write a Python program that logs an error message to a log file when a division by zero exception occurs\n",
        "import logging\n",
        "\n",
        "logging.basicConfig(filename=\"error.log\", level=logging.ERROR)\n",
        "\n",
        "try:\n",
        "    x = 10 / 0\n",
        "except ZeroDivisionError as e:\n",
        "    logging.error(f\"Error occurred: {e}\")\n"
      ],
      "metadata": {
        "colab": {
          "base_uri": "https://localhost:8080/"
        },
        "id": "wSbopI9bk5C3",
        "outputId": "9315a6cf-2ab2-41ce-99dd-03294c157251"
      },
      "execution_count": 6,
      "outputs": [
        {
          "output_type": "stream",
          "name": "stderr",
          "text": [
            "ERROR:root:Error occurred: division by zero\n"
          ]
        }
      ]
    },
    {
      "cell_type": "code",
      "source": [
        "# 7] How do you log information at different levels (INFO, ERROR, WARNING) in Python using the logging module\n",
        "import logging\n",
        "\n",
        "logging.basicConfig(filename=\"log.txt\", level=logging.INFO)\n",
        "\n",
        "logging.info(\"This is an info message.\")\n",
        "logging.error(\"This is an error message.\")\n",
        "logging.warning(\"This is a warning message.\")"
      ],
      "metadata": {
        "colab": {
          "base_uri": "https://localhost:8080/"
        },
        "id": "y_VDZskeqRp_",
        "outputId": "e9887881-935d-41f4-faee-4f77a8383723"
      },
      "execution_count": 7,
      "outputs": [
        {
          "output_type": "stream",
          "name": "stderr",
          "text": [
            "ERROR:root:This is an error message.\n",
            "WARNING:root:This is a warning message.\n"
          ]
        }
      ]
    },
    {
      "cell_type": "code",
      "source": [
        "# 8] Write a program to handle a file opening error using exception handling\n",
        "try:\n",
        "    with open(\"nonexistent.txt\", \"r\") as f:\n",
        "        content = f.read()\n",
        "except FileNotFoundError:\n",
        "    print(\"File not found.\")\n"
      ],
      "metadata": {
        "colab": {
          "base_uri": "https://localhost:8080/"
        },
        "id": "HLkEQB4b2EZm",
        "outputId": "dd206f45-9416-4d84-84cf-bd34d323fd7a"
      },
      "execution_count": 8,
      "outputs": [
        {
          "output_type": "stream",
          "name": "stdout",
          "text": [
            "File not found.\n"
          ]
        }
      ]
    },
    {
      "cell_type": "code",
      "source": [
        "# 9] How can you read a file line by line and store its content in a list in Python\n",
        "with open(\"file.txt\", \"r\") as f:\n",
        "    lines = f.readlines()"
      ],
      "metadata": {
        "id": "crdXnPpR2NhN"
      },
      "execution_count": 9,
      "outputs": []
    },
    {
      "cell_type": "code",
      "source": [
        "# 10]  How can you append data to an existing file in Python\n",
        "with open(\"file.txt\", \"a\") as f:\n",
        "    f.write(\"New line\\n\")"
      ],
      "metadata": {
        "id": "G9ns9xsS2Y01"
      },
      "execution_count": 10,
      "outputs": []
    },
    {
      "cell_type": "code",
      "source": [
        "# 11] Write a Python program that uses a try-except block to handle an error when attempting to access a dictionary key that doesn't exist\n",
        "data = {\"name\": \"Abish\"}\n",
        "\n",
        "try:\n",
        "    print(data[\"age\"])\n",
        "except KeyError:\n",
        "    print(\"Key not found.\")\n"
      ],
      "metadata": {
        "colab": {
          "base_uri": "https://localhost:8080/"
        },
        "id": "cQtnIzE-2nH1",
        "outputId": "6836c83e-61a6-4ece-b33a-f3ced87e6d49"
      },
      "execution_count": 11,
      "outputs": [
        {
          "output_type": "stream",
          "name": "stdout",
          "text": [
            "Key not found.\n"
          ]
        }
      ]
    },
    {
      "cell_type": "code",
      "source": [
        "# 12] Write a program that demonstrates using multiple except blocks to handle different types of exceptions\n",
        "try:\n",
        "    x = int(\"abc\")  # ValueError\n",
        "    y = 10 / 0      # ZeroDivisionError\n",
        "except ValueError:\n",
        "    print(\"Invalid value.\")\n",
        "except ZeroDivisionError:\n",
        "    print(\"Cannot divide by zero.\")\n"
      ],
      "metadata": {
        "colab": {
          "base_uri": "https://localhost:8080/"
        },
        "id": "iUTpqMG_24lF",
        "outputId": "d565fb70-b1bb-4df5-9252-40e5ffe21a36"
      },
      "execution_count": 12,
      "outputs": [
        {
          "output_type": "stream",
          "name": "stdout",
          "text": [
            "Invalid value.\n"
          ]
        }
      ]
    },
    {
      "cell_type": "code",
      "source": [
        "# 13] How would you check if a file exists before attempting to read it in Python\n",
        "import os\n",
        "\n",
        "if os.path.exists(\"file.txt\"):\n",
        "    with open(\"file.txt\", \"r\") as f:\n",
        "        print(f.read())\n",
        "else:\n",
        "    print(\"File does not exist.\")\n"
      ],
      "metadata": {
        "colab": {
          "base_uri": "https://localhost:8080/"
        },
        "id": "TYGyiMIY3yZO",
        "outputId": "44a447f5-d516-4513-98bd-5dacf54ba62b"
      },
      "execution_count": 13,
      "outputs": [
        {
          "output_type": "stream",
          "name": "stdout",
          "text": [
            "Hello, world!New line\n",
            "\n"
          ]
        }
      ]
    },
    {
      "cell_type": "code",
      "source": [
        "# 14] Write a program that uses the logging module to log both informational and error messages\n",
        "# Configure the logging module\n",
        "logging.basicConfig(\n",
        "    level=logging.DEBUG,\n",
        "    format='%(asctime)s - %(levelname)s - %(message)s',\n",
        "    filename='app.log',\n",
        "    filemode='w'  # Overwrite the log file each time the program runs\n",
        ")\n",
        "\n",
        "# Log informational messages\n",
        "logging.info(\"This is an informational message.\")\n",
        "logging.debug(\"This is a debug message for detailed troubleshooting.\")\n",
        "\n",
        "try:\n",
        "    # Simulate a block of code that may raise an exception\n",
        "    result = 10 / 0  # This will raise a ZeroDivisionError\n",
        "except ZeroDivisionError as e:\n",
        "    # Log the error message\n",
        "    logging.error(\"An error occurred: Division by zero.\", exc_info=True)\n",
        "\n",
        "# Log a warning message\n",
        "logging.warning(\"This is a warning message.\")\n",
        "\n",
        "# Log a critical message\n",
        "logging.critical(\"This is a critical message indicating a severe issue.\")\n"
      ],
      "metadata": {
        "colab": {
          "base_uri": "https://localhost:8080/"
        },
        "id": "0sgigN1z4G5d",
        "outputId": "19a675ea-7c32-4693-8857-b02ed6eed4a0"
      },
      "execution_count": 29,
      "outputs": [
        {
          "output_type": "stream",
          "name": "stderr",
          "text": [
            "ERROR:root:An error occurred: Division by zero.\n",
            "Traceback (most recent call last):\n",
            "  File \"<ipython-input-29-41d37ee0c561>\", line 16, in <cell line: 0>\n",
            "    result = 10 / 0  # This will raise a ZeroDivisionError\n",
            "             ~~~^~~\n",
            "ZeroDivisionError: division by zero\n",
            "WARNING:root:This is a warning message.\n",
            "CRITICAL:root:This is a critical message indicating a severe issue.\n"
          ]
        }
      ]
    },
    {
      "cell_type": "code",
      "source": [
        "# 15] Write a Python program that prints the content of a file and handles the case when the file is empty\n",
        "def print_file_content(filename):\n",
        "    try:\n",
        "        with open(filename, 'r') as file:\n",
        "            content = file.read()\n",
        "            if content.strip() == \"\":\n",
        "                print(\"The file is empty.\")\n",
        "            else:\n",
        "                print(\"File content:\")\n",
        "                print(content)\n",
        "    except FileNotFoundError:\n",
        "        print(f\"File '{filename}' not found.\")\n",
        "\n",
        "# Example usage\n",
        "print_file_content(\"file.txt\")\n"
      ],
      "metadata": {
        "colab": {
          "base_uri": "https://localhost:8080/"
        },
        "id": "-ANBhWZ06wtN",
        "outputId": "134085f7-7907-429b-c5f4-e2dadbff683a"
      },
      "execution_count": 16,
      "outputs": [
        {
          "output_type": "stream",
          "name": "stdout",
          "text": [
            "File content:\n",
            "Hello, world!New line\n",
            "\n"
          ]
        }
      ]
    },
    {
      "cell_type": "code",
      "source": [
        "# 16]  Demonstrate how to use memory profiling to check the memory usage of a small program\n",
        "from memory_profiler import profile\n",
        "\n",
        "@profile\n",
        "def memory_intensive_function():\n",
        "    # Example of a memory-intensive operation\n",
        "    large_list = [i for i in range(1000000)]  # Creating a large list\n",
        "    return sum(large_list)\n",
        "\n",
        "if __name__ == \"__main__\":\n",
        "    memory_intensive_function()"
      ],
      "metadata": {
        "colab": {
          "base_uri": "https://localhost:8080/"
        },
        "id": "yCZ-20Tx-EAO",
        "outputId": "95e20c3e-163f-4cca-f282-62c06e7a1ef3"
      },
      "execution_count": 30,
      "outputs": [
        {
          "output_type": "stream",
          "name": "stdout",
          "text": [
            "ERROR: Could not find file <ipython-input-30-3b8cdf45613e>\n",
            "NOTE: %mprun can only be used on functions defined in physical files, and not in the IPython environment.\n"
          ]
        }
      ]
    },
    {
      "cell_type": "code",
      "source": [
        "# 17] Write a Python program to create and write a list of numbers to a file, one number per line\n",
        "def write_numbers_to_file(filename, numbers):\n",
        "    with open(filename, 'w') as file:\n",
        "        for number in numbers:\n",
        "            file.write(f\"{number}\\n\")\n",
        "\n",
        "def main():\n",
        "    numbers = [i for i in range(1, 21)]\n",
        "    output_file = \"numbers.txt\"\n",
        "    write_numbers_to_file(output_file, numbers)\n",
        "    print(f\"Successfully wrote {len(numbers)} numbers to '{output_file}'\")\n",
        "    print(\"\\nFirst 5 lines of the file:\")\n",
        "    with open(output_file, 'r') as file:\n",
        "        for i in range(5):\n",
        "            print(file.readline().strip())\n",
        "\n",
        "if __name__ == \"__main__\":\n",
        "    main()"
      ],
      "metadata": {
        "colab": {
          "base_uri": "https://localhost:8080/"
        },
        "id": "1ByhldaJ_MFe",
        "outputId": "cb836b6a-5687-4c4e-9e6d-cc57d7dff787"
      },
      "execution_count": 31,
      "outputs": [
        {
          "output_type": "stream",
          "name": "stdout",
          "text": [
            "Successfully wrote 20 numbers to 'numbers.txt'\n",
            "\n",
            "First 5 lines of the file:\n",
            "1\n",
            "2\n",
            "3\n",
            "4\n",
            "5\n"
          ]
        }
      ]
    },
    {
      "cell_type": "code",
      "source": [
        "# 18] # 18] How would you implement a basic logging setup that logs to a file with rotation after 1MB\n",
        "import logging\n",
        "from logging.handlers import RotatingFileHandler\n",
        "\n",
        "# Define the logger\n",
        "logger = logging.getLogger(\"MyLogger\")\n",
        "logger.setLevel(logging.DEBUG)  # Set the logging level\n",
        "\n",
        "# Create a RotatingFileHandler\n",
        "handler = RotatingFileHandler(\n",
        "    \"app.log\",  # Log file name\n",
        "    maxBytes=1 * 1024 * 1024,  # 1MB size limit\n",
        "    backupCount=5  # Keep up to 5 backup files\n",
        ")\n",
        "\n",
        "# Define the log format\n",
        "formatter = logging.Formatter(\n",
        "    \"%(asctime)s - %(name)s - %(levelname)s - %(message)s\"\n",
        ")\n",
        "handler.setFormatter(formatter)\n",
        "\n",
        "# Add the handler to the logger\n",
        "logger.addHandler(handler)\n",
        "\n",
        "# Example usage\n",
        "logger.debug(\"This is a debug message\")\n",
        "logger.info(\"This is an info message\")\n",
        "logger.warning(\"This is a warning message\")\n",
        "logger.error(\"This is an error message\")\n",
        "logger.critical(\"This is a critical message\")"
      ],
      "metadata": {
        "colab": {
          "base_uri": "https://localhost:8080/"
        },
        "id": "2qUBtfpJAOlN",
        "outputId": "b96deafc-7452-4103-a56f-ad2b4f4716b0"
      },
      "execution_count": 34,
      "outputs": [
        {
          "output_type": "stream",
          "name": "stderr",
          "text": [
            "DEBUG:MyLogger:This is a debug message\n",
            "INFO:MyLogger:This is an info message\n",
            "WARNING:MyLogger:This is a warning message\n",
            "ERROR:MyLogger:This is an error message\n",
            "CRITICAL:MyLogger:This is a critical message\n"
          ]
        }
      ]
    },
    {
      "cell_type": "code",
      "source": [
        "# 19] Write a program that handles both IndexError and KeyError using a try-except block\n",
        "def handle_errors(data_dict, data_list):\n",
        "    try:\n",
        "        # Attempt dictionary access (potential KeyError)\n",
        "        value = data_dict['missing_key']\n",
        "        print(f\"Dictionary value: {value}\")\n",
        "\n",
        "        # Attempt list access (potential IndexError)\n",
        "        item = data_list[10]\n",
        "        print(f\"List item: {item}\")\n",
        "\n",
        "    except KeyError:\n",
        "        print(\"Error: The requested key doesn't exist in the dictionary\")\n",
        "    except IndexError:\n",
        "        print(\"Error: The list index is out of range\")\n",
        "    except Exception as e:\n",
        "        print(f\"An unexpected error occurred: {type(e).__name__} - {str(e)}\")\n",
        "    else:\n",
        "        print(\"All operations completed successfully!\")\n",
        "    finally:\n",
        "        print(\"Execution complete\\n\")\n",
        "\n",
        "# Test cases\n",
        "print(\"Test 1 - Both errors:\")\n",
        "handle_errors({'a': 1}, [1, 2, 3])\n",
        "\n",
        "print(\"Test 2 - KeyError only:\")\n",
        "handle_errors({'a': 1}, [1, 2, 3, 4, 5, 6, 7, 8, 9, 10, 11])\n",
        "\n",
        "print(\"Test 3 - No errors:\")\n",
        "handle_errors({'missing_key': 'found'}, [1, 2, 3, 4, 5, 6, 7, 8, 9, 10, 11])"
      ],
      "metadata": {
        "colab": {
          "base_uri": "https://localhost:8080/"
        },
        "id": "ATuSyvTUAiPF",
        "outputId": "a1c5990f-e7c9-4bb5-d538-93e6b41a205f"
      },
      "execution_count": 36,
      "outputs": [
        {
          "output_type": "stream",
          "name": "stdout",
          "text": [
            "Test 1 - Both errors:\n",
            "Error: The requested key doesn't exist in the dictionary\n",
            "Execution complete\n",
            "\n",
            "Test 2 - KeyError only:\n",
            "Error: The requested key doesn't exist in the dictionary\n",
            "Execution complete\n",
            "\n",
            "Test 3 - No errors:\n",
            "Dictionary value: found\n",
            "List item: 11\n",
            "All operations completed successfully!\n",
            "Execution complete\n",
            "\n"
          ]
        }
      ]
    },
    {
      "cell_type": "code",
      "source": [
        "# 20] How would you open a file and read its contents using a context manager in Python\n",
        "with open('file.txt', 'r') as file:\n",
        "    contents = file.read()\n",
        "    print(contents)"
      ],
      "metadata": {
        "colab": {
          "base_uri": "https://localhost:8080/"
        },
        "id": "FdywrODXBB5G",
        "outputId": "d419ed18-949c-4131-b8c1-a2cccf703a3f"
      },
      "execution_count": 37,
      "outputs": [
        {
          "output_type": "stream",
          "name": "stdout",
          "text": [
            "Hello, world!New line\n",
            "\n"
          ]
        }
      ]
    },
    {
      "cell_type": "code",
      "source": [
        "# 21] Write a Python program that reads a file and prints the number of occurrences of a specific word\n",
        "with open('file.txt') as f:\n",
        "    print(f.read().count('line'))"
      ],
      "metadata": {
        "colab": {
          "base_uri": "https://localhost:8080/"
        },
        "id": "O04Rw6tLBVP0",
        "outputId": "60596ba3-3dfe-4fd7-8f0d-382739672593"
      },
      "execution_count": 39,
      "outputs": [
        {
          "output_type": "stream",
          "name": "stdout",
          "text": [
            "1\n"
          ]
        }
      ]
    },
    {
      "cell_type": "code",
      "source": [
        "# 22] How can you check if a file is empty before attempting to read its contents\n",
        "import os\n",
        "if os.path.getsize('file.txt') == 0:\n",
        "    print(\"File is empty\")"
      ],
      "metadata": {
        "id": "KePDpWW9B5TV"
      },
      "execution_count": 41,
      "outputs": []
    },
    {
      "cell_type": "code",
      "source": [
        "# 23]  Write a Python program that writes to a log file when an error occurs during file handling\n",
        "import logging\n",
        "logging.basicConfig(filename='errors.log', level=logging.ERROR)\n",
        "\n",
        "try:\n",
        "    open('file.txt').read()\n",
        "except Exception as e:\n",
        "    logging.error(f\"File error: {e}\")"
      ],
      "metadata": {
        "id": "RuHPpdnvCTld"
      },
      "execution_count": 43,
      "outputs": []
    }
  ]
}